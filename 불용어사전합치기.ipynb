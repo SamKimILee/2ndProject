{
 "cells": [
  {
   "cell_type": "code",
   "execution_count": 1,
   "metadata": {},
   "outputs": [],
   "source": [
    "# 파일 1 열기 (경로는 프로젝트 폴더 기준. 현재 2ndProjenct 밑에 2ndProjenct 폴더 더 있는 구조)\n",
    "with open('2ndProjenct/stop_word.txt', mode='rt', encoding=\"utf-8\") as f:\n",
    "    content = f.read()\n",
    "    text1_words = [w.lower().strip('.,!?\"') for w in content.replace('\\n', ' ').split(' ')] \n",
    "    # lower 사용해서 소문자로 변경\n",
    "    # strip은 지정하는 문자들을 제거해준다. \n",
    "    # print(text1_words)\n",
    "\n",
    "# 파일 2 열기\n",
    "with open('2ndProjenct/stopword_ko.txt', mode='rt', encoding=\"utf-8\") as f:\n",
    "    content = f.read()\n",
    "    text2_words = [w.lower().strip('.,!?\"') for w in content.replace('\\n', ' ').split(' ')]\n",
    "    # print(text2_words)\n"
   ]
  },
  {
   "cell_type": "code",
   "execution_count": 2,
   "metadata": {},
   "outputs": [],
   "source": [
    "# 목록 합치기\n",
    "text1_set = set(text1_words)\n",
    "text2_set = set(text2_words)\n",
    "\n",
    "union_words = text1_set | text2_set"
   ]
  },
  {
   "cell_type": "code",
   "execution_count": 3,
   "metadata": {},
   "outputs": [],
   "source": [
    "# 합친 목록 저장\n",
    "with open('all_stopwords.txt', 'w', encoding='utf-8') as f:\n",
    "    for i, word in enumerate(union_words):\n",
    "        f.write(word)\n",
    "        if i < len(union_words) - 1:  # 마지막 단어가 아닐 때만 줄 바꿈\n",
    "            f.write('\\n')"
   ]
  }
 ],
 "metadata": {
  "kernelspec": {
   "display_name": ".venv",
   "language": "python",
   "name": "python3"
  },
  "language_info": {
   "codemirror_mode": {
    "name": "ipython",
    "version": 3
   },
   "file_extension": ".py",
   "mimetype": "text/x-python",
   "name": "python",
   "nbconvert_exporter": "python",
   "pygments_lexer": "ipython3",
   "version": "3.10.11"
  }
 },
 "nbformat": 4,
 "nbformat_minor": 2
}
