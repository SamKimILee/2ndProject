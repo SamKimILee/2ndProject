{
 "cells": [
  {
   "cell_type": "code",
   "execution_count": 1,
   "metadata": {},
   "outputs": [],
   "source": [
    "import pandas as pd\n",
    "from 감정_분류.clean_text import clean_str\n",
    "\n",
    "SPELL_KEY = ('7ed1786b84d98237d0275c6efcc9468257f0c4ea', '1736584291428')"
   ]
  },
  {
   "cell_type": "code",
   "execution_count": 2,
   "metadata": {},
   "outputs": [
    {
     "data": {
      "text/html": [
       "<div>\n",
       "<style scoped>\n",
       "    .dataframe tbody tr th:only-of-type {\n",
       "        vertical-align: middle;\n",
       "    }\n",
       "\n",
       "    .dataframe tbody tr th {\n",
       "        vertical-align: top;\n",
       "    }\n",
       "\n",
       "    .dataframe thead th {\n",
       "        text-align: right;\n",
       "    }\n",
       "</style>\n",
       "<table border=\"1\" class=\"dataframe\">\n",
       "  <thead>\n",
       "    <tr style=\"text-align: right;\">\n",
       "      <th></th>\n",
       "      <th>0</th>\n",
       "    </tr>\n",
       "  </thead>\n",
       "  <tbody>\n",
       "    <tr>\n",
       "      <th>0</th>\n",
       "      <td>아</td>\n",
       "    </tr>\n",
       "    <tr>\n",
       "      <th>1</th>\n",
       "      <td>휴</td>\n",
       "    </tr>\n",
       "    <tr>\n",
       "      <th>2</th>\n",
       "      <td>아이구</td>\n",
       "    </tr>\n",
       "    <tr>\n",
       "      <th>3</th>\n",
       "      <td>아이쿠</td>\n",
       "    </tr>\n",
       "    <tr>\n",
       "      <th>4</th>\n",
       "      <td>아이고</td>\n",
       "    </tr>\n",
       "  </tbody>\n",
       "</table>\n",
       "</div>"
      ],
      "text/plain": [
       "     0\n",
       "0    아\n",
       "1    휴\n",
       "2  아이구\n",
       "3  아이쿠\n",
       "4  아이고"
      ]
     },
     "execution_count": 2,
     "metadata": {},
     "output_type": "execute_result"
    }
   ],
   "source": [
    "stopword = pd.read_csv('불용어/stopword_ko.txt', header=None)\n",
    "stopword.head()"
   ]
  },
  {
   "cell_type": "code",
   "execution_count": 3,
   "metadata": {},
   "outputs": [],
   "source": [
    "stopword_fixed = stopword.apply(lambda x: clean_str(x[0], SPELL_KEY), axis=1)\n",
    "stopword_fixed.to_csv('불용어/stopword_ko_fixed.txt', index=False, header=False)"
   ]
  },
  {
   "cell_type": "code",
   "execution_count": 4,
   "metadata": {},
   "outputs": [
    {
     "data": {
      "text/html": [
       "<div>\n",
       "<style scoped>\n",
       "    .dataframe tbody tr th:only-of-type {\n",
       "        vertical-align: middle;\n",
       "    }\n",
       "\n",
       "    .dataframe tbody tr th {\n",
       "        vertical-align: top;\n",
       "    }\n",
       "\n",
       "    .dataframe thead th {\n",
       "        text-align: right;\n",
       "    }\n",
       "</style>\n",
       "<table border=\"1\" class=\"dataframe\">\n",
       "  <thead>\n",
       "    <tr style=\"text-align: right;\">\n",
       "      <th></th>\n",
       "      <th>0</th>\n",
       "    </tr>\n",
       "  </thead>\n",
       "  <tbody>\n",
       "    <tr>\n",
       "      <th>0</th>\n",
       "      <td>가</td>\n",
       "    </tr>\n",
       "    <tr>\n",
       "      <th>1</th>\n",
       "      <td>가까스로</td>\n",
       "    </tr>\n",
       "    <tr>\n",
       "      <th>2</th>\n",
       "      <td>가령</td>\n",
       "    </tr>\n",
       "    <tr>\n",
       "      <th>3</th>\n",
       "      <td>각</td>\n",
       "    </tr>\n",
       "    <tr>\n",
       "      <th>4</th>\n",
       "      <td>각각</td>\n",
       "    </tr>\n",
       "  </tbody>\n",
       "</table>\n",
       "</div>"
      ],
      "text/plain": [
       "      0\n",
       "0     가\n",
       "1  가까스로\n",
       "2    가령\n",
       "3     각\n",
       "4    각각"
      ]
     },
     "execution_count": 4,
     "metadata": {},
     "output_type": "execute_result"
    }
   ],
   "source": [
    "stopword2 = pd.read_csv('불용어/stop_word.txt', header=None)\n",
    "stopword2.head()"
   ]
  },
  {
   "cell_type": "code",
   "execution_count": 5,
   "metadata": {},
   "outputs": [],
   "source": [
    "stopword_fixed2 = stopword2.apply(lambda x: clean_str(x[0], SPELL_KEY), axis=1)\n",
    "stopword_fixed2.to_csv('불용어/stop_word_fixed.txt', index=False, header=False)"
   ]
  },
  {
   "cell_type": "code",
   "execution_count": 6,
   "metadata": {},
   "outputs": [
    {
     "name": "stdout",
     "output_type": "stream",
     "text": [
      "443\n",
      "592\n"
     ]
    }
   ],
   "source": [
    "stop_word1 = pd.read_csv('불용어/stopword_ko_fixed.txt', header=None)\n",
    "print(len(set(stop_word1[0])))\n",
    "stop_word2 = pd.read_csv('불용어/stop_word_fixed.txt', header=None)\n",
    "print(len(set(stop_word2[0])))"
   ]
  },
  {
   "cell_type": "code",
   "execution_count": 7,
   "metadata": {},
   "outputs": [
    {
     "name": "stdout",
     "output_type": "stream",
     "text": [
      "592\n"
     ]
    }
   ],
   "source": [
    "stop_word_set = sorted(set(stop_word1[0]) | set(stop_word2[0]))\n",
    "print(len(stop_word_set))\n",
    "stopword_fixed = pd.DataFrame(stop_word_set, columns=[\"stop_word\"])\n",
    "stopword_fixed.head()\n",
    "stopword_fixed.to_csv('불용어/stopword_fixed.txt', index=False, header=False)"
   ]
  },
  {
   "cell_type": "code",
   "execution_count": 8,
   "metadata": {},
   "outputs": [
    {
     "name": "stdout",
     "output_type": "stream",
     "text": [
      "435\n",
      "['가', '가까스로', '가령', '각', '각각', '각자', '각종', '같다', '같이', '거니와', '거부', '거의', '것', '것들', '게다가', '게우다', '겨우', '견지에서', '결국', '겸사겸사', '고려하면', '고로', '곧', '공동으로', '과', '과연', '관계없이', '관하여', '관한', '관해서는', '구', '구체적으로', '구토하다', '그', '그들', '그때', '그래', '그래도', '그래서', '그러나', '그러니', '그러니까', '그러면', '그러므로', '그러한즉', '그런데', '그런즉', '그럼', '그렇지', '그렇지만', '그리고', '그리하여', '그만이다', '그저', '그중에서', '근거로', '근거하여', '기대여', '기점으로', '기준으로', '기타', '까닭으로', '까지', '까지도', '깍', '꽈당', '끙끙', '끼익', '나', '나머지는', '남들', '남짓', '너', '너희', '너희들', '네', '넷', '년', '놀라다', '누구', '다른', '다만', '다섯', '다소', '다수', '다음', '다음에', '다음으로', '단지', '답다', '당신', '당장', '대하면', '대하여', '대해서', '더구나', '더군다나', '더라도', '더불어', '더욱더', '더욱이는', '도달하다', '도착하다', '동시에', '동안', '둘', '둥그', '둥둥', '뒤따라', '뒤이어', '들', '등', '등등', '딩동', '따라', '따라서', '따위', '딱', '때', '때문에', '또', '또한', '뚝뚝', '령', '로', '로부터', '로써', '륙', '를', '마음대로', '마저', '마저도', '마치', '막론하고', '만약', '만약에', '만일', '만큼', '말하자면', '매', '매번', '메쓰겁다', '몇', '모', '모두', '무렵', '무릅쓰고', '무슨', '무엇', '물론', '및', '바로', '반대로', '반드시', '버금', '보드득', '봐', '봐라', '부터', '불구하고', '불문하고', '붕붕', '비걱거리다', '비교적', '비로소', '비록', '비슷하다', '비하면', '뿐이다', '삐걱', '삐걱거리다', '사', '삼', '설령', '설마', '설사', '셋', '소생', '소인', '솨', '쉿', '습니까', '습니다', '시각', '시간', '시작하여', '시초에', '시키다', '실로', '심지어', '아', '아니', '아니라면', '아니면', '아니었다면', '아래위', '아무거나', '아무도', '아야', '아울러', '아이', '아이고', '아이야', '아이코', '아하', '아홉', '알았어', '앗', '앞에서', '야', '약간', '양자', '어', '어기여차', '어느', '어디', '어때', '어떠한', '어떡해', '어떤', '어떻게', '어이', '어째서', '어쨌든', '어찌', '어찌하든지', '어찌하여', '언제', '언젠가', '얼마', '얼마간', '얼마나', '얼마든지', '얼마만큼', '얼마큼', '엉엉', '에', '에게', '에서', '여', '여기', '여덟', '여러분', '여보시오', '여부', '여섯', '여전히', '여차', '연관되다', '연이어', '영', '영차', '예', '예컨대', '예하면', '오', '오로지', '오르다', '오자마자', '오직', '오호', '오히려', '와', '와르르', '와아', '왜', '왜냐하면', '외에도', '요만큼', '요만한걸', '요컨대', '우르르', '우리', '우리들', '우선', '운운', '월', '위하여', '위해서', '윙윙', '육', '으로', '으로서', '으로써', '을', '응', '응당', '의', '의거하여', '의지하여', '의해', '의해되다', '의해서', '이', '이것', '이곳', '이때', '이라면', '이래', '이러이러하다', '이러한', '이런', '이렇구나', '이르기까지', '이리하여', '이만큼', '이번', '이봐', '이상', '이어서', '이었다', '이외에도', '이용하여', '이유만으로', '이젠', '이지만', '이쪽', '이천구', '이천육', '이천칠', '이천팔', '인젠', '일', '일곱', '일단', '일반적으로', '일지라도', '입각하여', '입장에서', '잇따라', '있다', '자', '자기', '자마자', '자신', '잠깐', '잠시', '저', '저것', '저것만큼', '저기', '저쪽', '저희', '전부', '전자', '전후', '제', '제각기', '제외하고', '조금', '조차', '조차도', '졸졸', '좀', '좋아', '좍좍', '주룩주룩', '중에서', '즈음하여', '즉', '즉시', '지든지', '지만', '진짜로', '쪽으로', '차라리', '참', '참나', '쳇', '총적으로', '칠', '콸콸', '쾅쾅', '쿵', '타다', '타인', '탕탕', '토하다', '통하여', '툭', '퉤', '틈타', '팍', '팔', '퍽', '펄렁', '하', '하게하다', '하겠는가', '하구나', '하기보다는', '하기에', '하나', '하느니', '하더라도', '하도다', '하든지', '하마터면', '하면서', '하물며', '하여금', '하여야', '하자마자', '하지만', '하하', '한다면', '한데', '한마디', '한편으로는', '할만하다', '할망정', '할지라도', '할지언정', '함께', '해봐요', '해요', '했어요', '향하다', '향하여', '향해서', '허', '허걱', '허허', '헉', '헉헉', '헐떡헐떡', '혹시', '혹은', '혼자', '훨씬', '휘익', '휴', '흐흐', '흥', '힘입어']\n"
     ]
    }
   ],
   "source": [
    "print(len([i for i in stopword_fixed['stop_word'] if len(i.split()) == 1]))\n",
    "print([i for i in stopword_fixed['stop_word'] if len(i.split()) == 1])"
   ]
  },
  {
   "cell_type": "code",
   "execution_count": 9,
   "metadata": {},
   "outputs": [
    {
     "name": "stdout",
     "output_type": "stream",
     "text": [
      "157\n",
      "['갖고 말하자면', '개의치 않고', '것과 같이', '결과에 이르다', '결론을 낼 수 있다', '관계가 있다', '관련이 있다', '그 위에', '그런 까닭에', '그럼에도 불구하고', '그렇게 함으로써', '그렇지 않다면', '그렇지 않으면', '그에 따르는', '그치지 않다', '까지 미치다', '논하지 않다', '누가 알겠는가', '다른 방면으로', '다시 말하면', '다시 말하자면', '대로 하다', '대해 말하자면', '된 바에야', '된 이상', '두 번째로', '든 간에', '따지지 않다', '때가 되어', '라 해도', '로 인하여', '만 못하다', '만은 아니다', '만이 아니다', '말할 것도 없고', '무엇 때문에', '바꾸어 말하면', '바꾸어 말하자면', '바꾸어서 말하면', '바꾸어서 한다면', '바꿔 말하면', '바와 같이', '밖에 안된다', '반대로 말하자면', '보는 데서', '보다 더', '본 대로', '부류의 사람들', '비길 수 없다', '비추어 보아', '뿐만 아니라', '상대적으로 말하자면', '생각한 대로', '아니나 다를까', '안 그러면', '않기 위하여', '않기 위해서', '알 수 있다', '앞의 것', '어느 것', '어느 곳', '어느 때', '어느 연도', '어느 쪽', '어느 해', '어떤 것', '어떤 것들', '어쩔 수 없다', '어찌 됐든', '어찌 됐어', '얼마 안 되는 것', '에 가서', '에 달려 있다', '에 대해', '에 있다', '에 한하다', '옆 사람', '예를 들면', '예를 들자면', '와 같은 사람들', '요만한 것', '우에 종합한 것과 같이', '위에서 서술한 바와 같이', '으로 인하여', '이 되다', '이 때문에', '이 밖에', '이 외에', '이 정도의', '이럴 정도로', '이렇게 되면', '이렇게 많은 것', '이렇게 말하자면', '이로 인하여', '이와 같다', '이와 같다면', '이와 같은', '이와 반대로', '인 듯하다', '일 것이다', '일 때', '임에 틀림없다', '자기 집', '점에서 보아', '정도에 이르다', '주저하지 않고', '줄은 모른다', '줄은 몰랐다', '중의 하나', '지 말고', '첫 번째로', '총적으로 말하면', '총적으로 보면', '하게 될 것이다', '하고 있다', '하고 있었다', '하곤 하였다', '하기 때문에', '하기 위하여', '하기는 한데', '하기만 하면', '하는 것도', '하는 것만 못하다', '하는 것이 낫다', '하는 김에', '하는 바', '하는 편이 낫다', '하도록 시키다', '하도록 하다', '하려고 하다', '하면 된다', '하면 할수록', '하지 마', '하지 마라', '하지 않는다면', '하지 않도록', '한 까닭에', '한 이유는', '한 적이 있다', '한 항목', '한 후', '한다면 몰라도', '할 따름이다', '할 때', '할 뿐', '할 생각이다', '할 수 있다', '할 수 있어', '할 줄 안다', '할 줄 알다', '할 지경이다', '할 힘이 있다', '해도 된다', '해도 좋다', '해서는 안 된다', '해야 한다', '형식으로 쓰여']\n"
     ]
    }
   ],
   "source": [
    "print(len([i for i in stopword_fixed['stop_word'] if len(i.split()) > 1]))\n",
    "print([i for i in stopword_fixed['stop_word'] if len(i.split()) > 1])"
   ]
  },
  {
   "cell_type": "code",
   "execution_count": 10,
   "metadata": {},
   "outputs": [],
   "source": [
    "stopword_fixed_1 = stopword_fixed.copy()\n",
    "stopword_fixed_2 = stopword_fixed.copy()\n",
    "stopword_fixed_1['stop_word'] = stopword_fixed_1['stop_word'].apply(lambda x: x if len(x.split()) == 1 else None)\n",
    "stopword_fixed_2['stop_word'] = stopword_fixed_2['stop_word'].apply(lambda x: x if len(x.split()) > 1 else None)\n",
    "stopword_fixed_1 = stopword_fixed_1.dropna()\n",
    "stopword_fixed_2 = stopword_fixed_2.dropna()"
   ]
  },
  {
   "cell_type": "code",
   "execution_count": 11,
   "metadata": {},
   "outputs": [
    {
     "name": "stdout",
     "output_type": "stream",
     "text": [
      "<class 'pandas.core.frame.DataFrame'>\n",
      "Index: 435 entries, 0 to 591\n",
      "Data columns (total 1 columns):\n",
      " #   Column     Non-Null Count  Dtype \n",
      "---  ------     --------------  ----- \n",
      " 0   stop_word  435 non-null    object\n",
      "dtypes: object(1)\n",
      "memory usage: 6.8+ KB\n",
      "<class 'pandas.core.frame.DataFrame'>\n",
      "Index: 157 entries, 7 to 582\n",
      "Data columns (total 1 columns):\n",
      " #   Column     Non-Null Count  Dtype \n",
      "---  ------     --------------  ----- \n",
      " 0   stop_word  157 non-null    object\n",
      "dtypes: object(1)\n",
      "memory usage: 2.5+ KB\n"
     ]
    }
   ],
   "source": [
    "stopword_fixed_1.info()\n",
    "stopword_fixed_2.info()"
   ]
  },
  {
   "cell_type": "code",
   "execution_count": 12,
   "metadata": {},
   "outputs": [],
   "source": [
    "stopword_fixed_1.to_csv('불용어/1_stopword_fixed.txt', index=False, header=False)\n",
    "stopword_fixed_2.to_csv('불용어/2_stopword_fixed.txt', index=False, header=False)"
   ]
  },
  {
   "cell_type": "code",
   "execution_count": 21,
   "metadata": {},
   "outputs": [],
   "source": [
    "# 조사 추가\n",
    "wrd = '이', '가', '에서', '께서', '께', '이다', '을', '를', '의', '에서', '에게', '으로', '로', '아', '야', '여', '이여', '시여', '이시여', '은', '는', '만', '도', '조차', '와', '과', '하고', '이', '이랑'"
   ]
  },
  {
   "cell_type": "code",
   "execution_count": 22,
   "metadata": {},
   "outputs": [],
   "source": [
    "wrd = set(wrd)\n",
    "wrd = pd.DataFrame(wrd)\n",
    "wrd.to_csv('불용어/3_조사.txt', index=False, header=False)"
   ]
  },
  {
   "cell_type": "code",
   "execution_count": 23,
   "metadata": {},
   "outputs": [],
   "source": [
    "stop_word3 = sorted(set(stop_word1[0]) | set(wrd[0]))\n",
    "stop_word3 = pd.DataFrame(stop_word3)\n",
    "stop_word3.to_csv('불용어/3_stopword_fixed.txt', index=False, header=False)"
   ]
  },
  {
   "cell_type": "code",
   "execution_count": 26,
   "metadata": {},
   "outputs": [
    {
     "name": "stdout",
     "output_type": "stream",
     "text": [
      "<class 'pandas.core.frame.DataFrame'>\n",
      "RangeIndex: 456 entries, 0 to 455\n",
      "Data columns (total 1 columns):\n",
      " #   Column  Non-Null Count  Dtype \n",
      "---  ------  --------------  ----- \n",
      " 0   0       456 non-null    object\n",
      "dtypes: object(1)\n",
      "memory usage: 3.7+ KB\n"
     ]
    }
   ],
   "source": [
    "stop_word3.info()"
   ]
  }
 ],
 "metadata": {
  "kernelspec": {
   "display_name": ".venv",
   "language": "python",
   "name": "python3"
  },
  "language_info": {
   "codemirror_mode": {
    "name": "ipython",
    "version": 3
   },
   "file_extension": ".py",
   "mimetype": "text/x-python",
   "name": "python",
   "nbconvert_exporter": "python",
   "pygments_lexer": "ipython3",
   "version": "3.10.11"
  }
 },
 "nbformat": 4,
 "nbformat_minor": 2
}
