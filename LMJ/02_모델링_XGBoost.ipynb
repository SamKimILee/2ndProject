{
 "cells": [
  {
   "cell_type": "markdown",
   "metadata": {},
   "source": [
    "##### 2. XGBoost 모델링\n",
    "사용 데이터 : 효림 님이 전처리 해주신 문장 데이터 사용"
   ]
  },
  {
   "cell_type": "code",
   "execution_count": 17,
   "metadata": {},
   "outputs": [],
   "source": [
    "import pandas as pd\n",
    "from sklearn.feature_extraction.text import TfidfVectorizer\n",
    "from sklearn.model_selection import train_test_split\n",
    "from xgboost import XGBClassifier\n",
    "from sklearn.metrics import accuracy_score, classification_report\n",
    "\n",
    "# 라이브러리 업그레이드 후 실행\n",
    "# from xgboost import XGBClassifier\n",
    "# from sklearn.metrics import accuracy_score, classification_report\n",
    "from sklearn import set_config\n",
    "\n",
    "# 학습 이력을 저장하기 위해서.\n",
    "import pickle\n",
    "\n",
    "# 시각화를 위해서.\n",
    "from xgboost import plot_importance, plot_tree\n",
    "import matplotlib.pyplot as plt\n",
    "\n",
    "# 한글 폰트 설정\n",
    "plt.rc('font', family='Malgun Gothic')"
   ]
  },
  {
   "cell_type": "code",
   "execution_count": 18,
   "metadata": {},
   "outputs": [],
   "source": [
    "df = pd.read_excel('C:/labs_python/src_mj/datasets/full_data.xlsx')"
   ]
  },
  {
   "cell_type": "code",
   "execution_count": 19,
   "metadata": {},
   "outputs": [],
   "source": [
    "# 1. 리스트 데이터를 문자열로 변환\n",
    "df['main_tokens_str'] = df['Sentence_cleaned'].apply(lambda x: \"\".join(x))"
   ]
  },
  {
   "cell_type": "code",
   "execution_count": 20,
   "metadata": {},
   "outputs": [],
   "source": [
    "# 2. TF-IDF 벡터화\n",
    "vectorizer = TfidfVectorizer(max_features=5000)  # 상위 5000개의 단어만 사용\n",
    "X = vectorizer.fit_transform(df['main_tokens_str'])  # TF-IDF 행렬 생성\n",
    "y = df['Emotion']  # 감정 레이블"
   ]
  },
  {
   "cell_type": "code",
   "execution_count": 21,
   "metadata": {},
   "outputs": [],
   "source": [
    "# 3. 데이터 분할\n",
    "X_train, X_test, y_train, y_test = train_test_split(X, y, test_size=0.2, random_state=42)\n",
    "# y 데이터 인코딩\n",
    "from sklearn.preprocessing import LabelEncoder\n",
    "\n",
    "label_encoder = LabelEncoder()\n",
    "\n",
    "y_train_e = label_encoder.fit_transform(y_train)\n",
    "y_test_e = label_encoder.transform(y_test)\n",
    "\n"
   ]
  },
  {
   "cell_type": "code",
   "execution_count": 22,
   "metadata": {},
   "outputs": [
    {
     "name": "stdout",
     "output_type": "stream",
     "text": [
      "[0]\tvalidation_0-mlogloss:1.92362\tvalidation_1-mlogloss:1.92553\n",
      "[1]\tvalidation_0-mlogloss:1.90635\tvalidation_1-mlogloss:1.90963\n",
      "[2]\tvalidation_0-mlogloss:1.89209\tvalidation_1-mlogloss:1.89694\n",
      "[3]\tvalidation_0-mlogloss:1.87999\tvalidation_1-mlogloss:1.88585\n",
      "[4]\tvalidation_0-mlogloss:1.86940\tvalidation_1-mlogloss:1.87662\n",
      "[5]\tvalidation_0-mlogloss:1.86000\tvalidation_1-mlogloss:1.86791\n",
      "[6]\tvalidation_0-mlogloss:1.85154\tvalidation_1-mlogloss:1.86037\n",
      "[7]\tvalidation_0-mlogloss:1.84386\tvalidation_1-mlogloss:1.85346\n",
      "[8]\tvalidation_0-mlogloss:1.83672\tvalidation_1-mlogloss:1.84764\n",
      "[9]\tvalidation_0-mlogloss:1.83023\tvalidation_1-mlogloss:1.84179\n",
      "[10]\tvalidation_0-mlogloss:1.82415\tvalidation_1-mlogloss:1.83701\n",
      "[11]\tvalidation_0-mlogloss:1.81851\tvalidation_1-mlogloss:1.83254\n",
      "[12]\tvalidation_0-mlogloss:1.81317\tvalidation_1-mlogloss:1.82796\n",
      "[13]\tvalidation_0-mlogloss:1.80815\tvalidation_1-mlogloss:1.82334\n",
      "[14]\tvalidation_0-mlogloss:1.80342\tvalidation_1-mlogloss:1.81896\n",
      "[15]\tvalidation_0-mlogloss:1.79885\tvalidation_1-mlogloss:1.81576\n",
      "[16]\tvalidation_0-mlogloss:1.79456\tvalidation_1-mlogloss:1.81198\n",
      "[17]\tvalidation_0-mlogloss:1.79038\tvalidation_1-mlogloss:1.80887\n",
      "[18]\tvalidation_0-mlogloss:1.78645\tvalidation_1-mlogloss:1.80584\n",
      "[19]\tvalidation_0-mlogloss:1.78260\tvalidation_1-mlogloss:1.80278\n",
      "[20]\tvalidation_0-mlogloss:1.77888\tvalidation_1-mlogloss:1.79980\n",
      "[21]\tvalidation_0-mlogloss:1.77546\tvalidation_1-mlogloss:1.79732\n",
      "[22]\tvalidation_0-mlogloss:1.77201\tvalidation_1-mlogloss:1.79480\n",
      "[23]\tvalidation_0-mlogloss:1.76874\tvalidation_1-mlogloss:1.79212\n",
      "[24]\tvalidation_0-mlogloss:1.76562\tvalidation_1-mlogloss:1.78988\n",
      "[25]\tvalidation_0-mlogloss:1.76241\tvalidation_1-mlogloss:1.78746\n",
      "[26]\tvalidation_0-mlogloss:1.75943\tvalidation_1-mlogloss:1.78502\n",
      "[27]\tvalidation_0-mlogloss:1.75653\tvalidation_1-mlogloss:1.78284\n",
      "[28]\tvalidation_0-mlogloss:1.75368\tvalidation_1-mlogloss:1.78081\n",
      "[29]\tvalidation_0-mlogloss:1.75093\tvalidation_1-mlogloss:1.77873\n",
      "[30]\tvalidation_0-mlogloss:1.74822\tvalidation_1-mlogloss:1.77686\n",
      "[31]\tvalidation_0-mlogloss:1.74563\tvalidation_1-mlogloss:1.77506\n",
      "[32]\tvalidation_0-mlogloss:1.74315\tvalidation_1-mlogloss:1.77355\n",
      "[33]\tvalidation_0-mlogloss:1.74065\tvalidation_1-mlogloss:1.77140\n",
      "[34]\tvalidation_0-mlogloss:1.73823\tvalidation_1-mlogloss:1.76950\n",
      "[35]\tvalidation_0-mlogloss:1.73594\tvalidation_1-mlogloss:1.76774\n",
      "[36]\tvalidation_0-mlogloss:1.73359\tvalidation_1-mlogloss:1.76626\n",
      "[37]\tvalidation_0-mlogloss:1.73125\tvalidation_1-mlogloss:1.76474\n",
      "[38]\tvalidation_0-mlogloss:1.72899\tvalidation_1-mlogloss:1.76324\n",
      "[39]\tvalidation_0-mlogloss:1.72681\tvalidation_1-mlogloss:1.76171\n",
      "[40]\tvalidation_0-mlogloss:1.72471\tvalidation_1-mlogloss:1.75982\n",
      "[41]\tvalidation_0-mlogloss:1.72262\tvalidation_1-mlogloss:1.75828\n",
      "[42]\tvalidation_0-mlogloss:1.72060\tvalidation_1-mlogloss:1.75695\n",
      "[43]\tvalidation_0-mlogloss:1.71859\tvalidation_1-mlogloss:1.75627\n",
      "[44]\tvalidation_0-mlogloss:1.71643\tvalidation_1-mlogloss:1.75478\n",
      "[45]\tvalidation_0-mlogloss:1.71448\tvalidation_1-mlogloss:1.75348\n",
      "[46]\tvalidation_0-mlogloss:1.71252\tvalidation_1-mlogloss:1.75209\n",
      "[47]\tvalidation_0-mlogloss:1.71064\tvalidation_1-mlogloss:1.75053\n",
      "[48]\tvalidation_0-mlogloss:1.70874\tvalidation_1-mlogloss:1.74944\n",
      "[49]\tvalidation_0-mlogloss:1.70694\tvalidation_1-mlogloss:1.74829\n",
      "[50]\tvalidation_0-mlogloss:1.70510\tvalidation_1-mlogloss:1.74710\n",
      "[51]\tvalidation_0-mlogloss:1.70334\tvalidation_1-mlogloss:1.74600\n",
      "[52]\tvalidation_0-mlogloss:1.70158\tvalidation_1-mlogloss:1.74487\n",
      "[53]\tvalidation_0-mlogloss:1.69981\tvalidation_1-mlogloss:1.74381\n",
      "[54]\tvalidation_0-mlogloss:1.69804\tvalidation_1-mlogloss:1.74285\n",
      "[55]\tvalidation_0-mlogloss:1.69638\tvalidation_1-mlogloss:1.74170\n",
      "[56]\tvalidation_0-mlogloss:1.69472\tvalidation_1-mlogloss:1.74058\n",
      "[57]\tvalidation_0-mlogloss:1.69313\tvalidation_1-mlogloss:1.73947\n",
      "[58]\tvalidation_0-mlogloss:1.69152\tvalidation_1-mlogloss:1.73866\n",
      "[59]\tvalidation_0-mlogloss:1.68995\tvalidation_1-mlogloss:1.73768\n",
      "[60]\tvalidation_0-mlogloss:1.68846\tvalidation_1-mlogloss:1.73640\n",
      "[61]\tvalidation_0-mlogloss:1.68689\tvalidation_1-mlogloss:1.73557\n",
      "[62]\tvalidation_0-mlogloss:1.68532\tvalidation_1-mlogloss:1.73449\n",
      "[63]\tvalidation_0-mlogloss:1.68383\tvalidation_1-mlogloss:1.73349\n",
      "[64]\tvalidation_0-mlogloss:1.68239\tvalidation_1-mlogloss:1.73251\n",
      "[65]\tvalidation_0-mlogloss:1.68089\tvalidation_1-mlogloss:1.73176\n",
      "[66]\tvalidation_0-mlogloss:1.67943\tvalidation_1-mlogloss:1.73107\n",
      "[67]\tvalidation_0-mlogloss:1.67798\tvalidation_1-mlogloss:1.73014\n",
      "[68]\tvalidation_0-mlogloss:1.67658\tvalidation_1-mlogloss:1.72913\n",
      "[69]\tvalidation_0-mlogloss:1.67516\tvalidation_1-mlogloss:1.72849\n",
      "[70]\tvalidation_0-mlogloss:1.67380\tvalidation_1-mlogloss:1.72730\n",
      "[71]\tvalidation_0-mlogloss:1.67244\tvalidation_1-mlogloss:1.72661\n",
      "[72]\tvalidation_0-mlogloss:1.67111\tvalidation_1-mlogloss:1.72578\n",
      "[73]\tvalidation_0-mlogloss:1.66962\tvalidation_1-mlogloss:1.72496\n",
      "[74]\tvalidation_0-mlogloss:1.66833\tvalidation_1-mlogloss:1.72413\n",
      "[75]\tvalidation_0-mlogloss:1.66697\tvalidation_1-mlogloss:1.72349\n",
      "[76]\tvalidation_0-mlogloss:1.66563\tvalidation_1-mlogloss:1.72258\n",
      "[77]\tvalidation_0-mlogloss:1.66434\tvalidation_1-mlogloss:1.72206\n",
      "[78]\tvalidation_0-mlogloss:1.66305\tvalidation_1-mlogloss:1.72144\n",
      "[79]\tvalidation_0-mlogloss:1.66170\tvalidation_1-mlogloss:1.72054\n",
      "[80]\tvalidation_0-mlogloss:1.66039\tvalidation_1-mlogloss:1.71982\n",
      "[81]\tvalidation_0-mlogloss:1.65914\tvalidation_1-mlogloss:1.71916\n",
      "[82]\tvalidation_0-mlogloss:1.65787\tvalidation_1-mlogloss:1.71847\n",
      "[83]\tvalidation_0-mlogloss:1.65662\tvalidation_1-mlogloss:1.71765\n",
      "[84]\tvalidation_0-mlogloss:1.65548\tvalidation_1-mlogloss:1.71703\n",
      "[85]\tvalidation_0-mlogloss:1.65428\tvalidation_1-mlogloss:1.71626\n",
      "[86]\tvalidation_0-mlogloss:1.65308\tvalidation_1-mlogloss:1.71561\n",
      "[87]\tvalidation_0-mlogloss:1.65193\tvalidation_1-mlogloss:1.71494\n",
      "[88]\tvalidation_0-mlogloss:1.65078\tvalidation_1-mlogloss:1.71434\n",
      "[89]\tvalidation_0-mlogloss:1.64959\tvalidation_1-mlogloss:1.71380\n",
      "[90]\tvalidation_0-mlogloss:1.64842\tvalidation_1-mlogloss:1.71323\n",
      "[91]\tvalidation_0-mlogloss:1.64732\tvalidation_1-mlogloss:1.71251\n",
      "[92]\tvalidation_0-mlogloss:1.64623\tvalidation_1-mlogloss:1.71179\n",
      "[93]\tvalidation_0-mlogloss:1.64510\tvalidation_1-mlogloss:1.71099\n",
      "[94]\tvalidation_0-mlogloss:1.64396\tvalidation_1-mlogloss:1.71042\n",
      "[95]\tvalidation_0-mlogloss:1.64279\tvalidation_1-mlogloss:1.70972\n",
      "[96]\tvalidation_0-mlogloss:1.64170\tvalidation_1-mlogloss:1.70919\n",
      "[97]\tvalidation_0-mlogloss:1.64062\tvalidation_1-mlogloss:1.70845\n",
      "[98]\tvalidation_0-mlogloss:1.63957\tvalidation_1-mlogloss:1.70780\n",
      "[99]\tvalidation_0-mlogloss:1.63851\tvalidation_1-mlogloss:1.70729\n"
     ]
    },
    {
     "data": {
      "text/plain": [
       "XGBClassifier(base_score=None, booster=None, callbacks=None,\n",
       "              colsample_bylevel=None, colsample_bynode=None,\n",
       "              colsample_bytree=None, device=None, early_stopping_rounds=None,\n",
       "              enable_categorical=False, eval_metric=None, feature_types=None,\n",
       "              gamma=None, grow_policy=None, importance_type=None,\n",
       "              interaction_constraints=None, learning_rate=0.1, max_bin=None,\n",
       "              max_cat_threshold=None, max_cat_to_onehot=None,\n",
       "              max_delta_step=None, max_depth=6, max_leaves=None,\n",
       "              min_child_weight=None, missing=nan, monotone_constraints=None,\n",
       "              multi_strategy=None, n_estimators=100, n_jobs=None,\n",
       "              num_parallel_tree=None, objective='multi:softprob', ...)"
      ]
     },
     "execution_count": 22,
     "metadata": {},
     "output_type": "execute_result"
    }
   ],
   "source": [
    "# 4. XGBoost 모델 학습\n",
    "\n",
    "# 학습 데이터 설정\n",
    "eval_set = [(X_train, y_train_e), (X_test, y_test_e)]  # 학습 및 검증 데이터 설정\n",
    "# scikit-learn 출력 설정 변경\n",
    "set_config(display=\"text\")\n",
    "\n",
    "# 모델 학습\n",
    "model = XGBClassifier(n_estimators=100, learning_rate=0.1, max_depth=6, random_state=42)\n",
    "model.fit(X_train, y_train_e, eval_set=eval_set, verbose=True)"
   ]
  },
  {
   "cell_type": "code",
   "execution_count": 23,
   "metadata": {},
   "outputs": [],
   "source": [
    "# 예측 수행\n",
    "y_pred_encoded = model.predict(X_test)"
   ]
  },
  {
   "cell_type": "code",
   "execution_count": 24,
   "metadata": {},
   "outputs": [],
   "source": [
    "# 숫자 레이블을 다시 문자열로 변환\n",
    "y_pred = label_encoder.inverse_transform(y_pred_encoded)"
   ]
  },
  {
   "cell_type": "code",
   "execution_count": 25,
   "metadata": {},
   "outputs": [
    {
     "name": "stdout",
     "output_type": "stream",
     "text": [
      "Accuracy: 0.3473796506200827\n",
      "Classification Report:\n",
      "              precision    recall  f1-score   support\n",
      "\n",
      "          공포       0.57      0.31      0.40      1075\n",
      "          놀람       0.20      0.70      0.32      1124\n",
      "          분노       0.41      0.29      0.34      1085\n",
      "          슬픔       0.57      0.32      0.41       994\n",
      "          중립       0.24      0.10      0.14       925\n",
      "          행복       0.74      0.50      0.60      1190\n",
      "          혐오       0.28      0.15      0.20      1106\n",
      "\n",
      "    accuracy                           0.35      7499\n",
      "   macro avg       0.43      0.34      0.34      7499\n",
      "weighted avg       0.44      0.35      0.35      7499\n",
      "\n"
     ]
    }
   ],
   "source": [
    "print(\"Accuracy:\", accuracy_score(y_test, y_pred))\n",
    "print(\"Classification Report:\")\n",
    "print(classification_report(y_test, y_pred))"
   ]
  },
  {
   "cell_type": "code",
   "execution_count": 26,
   "metadata": {},
   "outputs": [
    {
     "data": {
      "text/plain": [
       "{'validation_0': OrderedDict([('mlogloss',\n",
       "               [1.923621653429487,\n",
       "                1.9063512596692178,\n",
       "                1.8920877959891584,\n",
       "                1.8799924531605348,\n",
       "                1.8693975104373939,\n",
       "                1.8599956105541917,\n",
       "                1.8515408229223786,\n",
       "                1.843855564312888,\n",
       "                1.836717653129474,\n",
       "                1.8302259523822062,\n",
       "                1.824146811368764,\n",
       "                1.8185120573976195,\n",
       "                1.8131653723766017,\n",
       "                1.8081502268653766,\n",
       "                1.8034182730446777,\n",
       "                1.7988490722024018,\n",
       "                1.79456445879689,\n",
       "                1.79037982049257,\n",
       "                1.7864485257058207,\n",
       "                1.7826000202504928,\n",
       "                1.7788764200363185,\n",
       "                1.775463621507865,\n",
       "                1.7720108282925746,\n",
       "                1.7687435165825118,\n",
       "                1.7656183547160091,\n",
       "                1.7624095069401302,\n",
       "                1.7594325400408277,\n",
       "                1.7565294822154789,\n",
       "                1.753676270870273,\n",
       "                1.7509321390583945,\n",
       "                1.7482245291778695,\n",
       "                1.7456276083771518,\n",
       "                1.7431453551266824,\n",
       "                1.7406493800389686,\n",
       "                1.7382329777735117,\n",
       "                1.7359414156858555,\n",
       "                1.7335855940788125,\n",
       "                1.7312536836333683,\n",
       "                1.7289894838629414,\n",
       "                1.7268148310789269,\n",
       "                1.7247101556881703,\n",
       "                1.72262065651134,\n",
       "                1.720595730069151,\n",
       "                1.7185916349237156,\n",
       "                1.7164349387674793,\n",
       "                1.7144785719668294,\n",
       "                1.7125213089464089,\n",
       "                1.7106426812543196,\n",
       "                1.7087444733139634,\n",
       "                1.7069365717170089,\n",
       "                1.7050972832490712,\n",
       "                1.7033426622146466,\n",
       "                1.7015763819205263,\n",
       "                1.6998087010363585,\n",
       "                1.6980394556164582,\n",
       "                1.6963791184630328,\n",
       "                1.6947242554221913,\n",
       "                1.6931294096049756,\n",
       "                1.691522591038582,\n",
       "                1.6899455627837288,\n",
       "                1.6884552119366525,\n",
       "                1.6868865736692047,\n",
       "                1.6853190356524295,\n",
       "                1.6838272688218898,\n",
       "                1.682386416129322,\n",
       "                1.680894190660279,\n",
       "                1.6794299225159428,\n",
       "                1.6779788596994938,\n",
       "                1.6765818253116054,\n",
       "                1.6751649063797167,\n",
       "                1.6738015006397402,\n",
       "                1.6724353010387873,\n",
       "                1.6711086438924376,\n",
       "                1.6696169766107958,\n",
       "                1.668326166751626,\n",
       "                1.666967286442452,\n",
       "                1.665629055403368,\n",
       "                1.6643379496356774,\n",
       "                1.663049454354265,\n",
       "                1.661695517014925,\n",
       "                1.6603896201367918,\n",
       "                1.6591358709309432,\n",
       "                1.6578669426470602,\n",
       "                1.6566173055479192,\n",
       "                1.655477953206479,\n",
       "                1.6542838091510117,\n",
       "                1.6530754441802769,\n",
       "                1.6519326516074535,\n",
       "                1.6507781587982935,\n",
       "                1.6495868615279508,\n",
       "                1.648421412563828,\n",
       "                1.6473219034908293,\n",
       "                1.6462301752681092,\n",
       "                1.6451047076148952,\n",
       "                1.6439603621312446,\n",
       "                1.6427888335274157,\n",
       "                1.6417049150566823,\n",
       "                1.6406234727027946,\n",
       "                1.6395711150410028,\n",
       "                1.6385140075011588])]),\n",
       " 'validation_1': OrderedDict([('mlogloss',\n",
       "               [1.925528744965144,\n",
       "                1.9096283169011463,\n",
       "                1.8969363728146948,\n",
       "                1.885854920843058,\n",
       "                1.8766249075843933,\n",
       "                1.8679094056333443,\n",
       "                1.8603715434648591,\n",
       "                1.853459854637214,\n",
       "                1.8476390568856191,\n",
       "                1.8417899632616064,\n",
       "                1.8370143618245398,\n",
       "                1.8325359920038033,\n",
       "                1.8279594558289025,\n",
       "                1.8233410755838295,\n",
       "                1.8189631989239405,\n",
       "                1.8157609105785777,\n",
       "                1.8119799071533678,\n",
       "                1.80887400115994,\n",
       "                1.8058381018630345,\n",
       "                1.8027838018834232,\n",
       "                1.7997962782495514,\n",
       "                1.7973186534386443,\n",
       "                1.7948028628294237,\n",
       "                1.7921241942302817,\n",
       "                1.7898763883096376,\n",
       "                1.78745847737166,\n",
       "                1.7850229362656012,\n",
       "                1.7828359875337714,\n",
       "                1.7808052926524383,\n",
       "                1.7787295992469165,\n",
       "                1.7768566614588923,\n",
       "                1.7750638444863378,\n",
       "                1.773553733222245,\n",
       "                1.771400450114203,\n",
       "                1.769504343931604,\n",
       "                1.767736384857971,\n",
       "                1.7662627484114397,\n",
       "                1.7647376445235452,\n",
       "                1.7632350529598577,\n",
       "                1.7617096300273518,\n",
       "                1.7598240931436036,\n",
       "                1.7582756641734074,\n",
       "                1.7569475783647928,\n",
       "                1.7562725210781176,\n",
       "                1.7547758063811878,\n",
       "                1.7534806730489219,\n",
       "                1.7520909939194254,\n",
       "                1.7505278403923294,\n",
       "                1.7494447897046164,\n",
       "                1.7482895882570961,\n",
       "                1.747104807160591,\n",
       "                1.7459955497585602,\n",
       "                1.7448703302317643,\n",
       "                1.7438098306502243,\n",
       "                1.7428476419823935,\n",
       "                1.7417026592202705,\n",
       "                1.740583533204318,\n",
       "                1.7394729470490122,\n",
       "                1.7386625679176295,\n",
       "                1.7376848565960252,\n",
       "                1.7364030637444139,\n",
       "                1.7355660156860147,\n",
       "                1.7344864503782158,\n",
       "                1.7334924255811837,\n",
       "                1.7325123330750338,\n",
       "                1.7317628310902653,\n",
       "                1.7310736444684975,\n",
       "                1.730137638183608,\n",
       "                1.729127422850199,\n",
       "                1.728491043130236,\n",
       "                1.727302658681737,\n",
       "                1.7266061208235104,\n",
       "                1.7257835188370627,\n",
       "                1.7249577995501473,\n",
       "                1.7241267981200195,\n",
       "                1.7234885747531925,\n",
       "                1.7225834456914377,\n",
       "                1.7220583457372072,\n",
       "                1.7214359977200742,\n",
       "                1.7205415391237149,\n",
       "                1.7198231688949375,\n",
       "                1.7191583347946588,\n",
       "                1.7184715188857391,\n",
       "                1.7176502532799978,\n",
       "                1.7170327820282731,\n",
       "                1.7162631402928037,\n",
       "                1.7156104583817045,\n",
       "                1.7149363965257318,\n",
       "                1.7143396682903649,\n",
       "                1.7137951719024331,\n",
       "                1.7132309944341453,\n",
       "                1.7125148442899851,\n",
       "                1.7117896009324005,\n",
       "                1.710994699818124,\n",
       "                1.710418082809453,\n",
       "                1.7097228789976027,\n",
       "                1.709187142906137,\n",
       "                1.7084543224085573,\n",
       "                1.7077975821801663,\n",
       "                1.7072891783408135])])}"
      ]
     },
     "execution_count": 26,
     "metadata": {},
     "output_type": "execute_result"
    }
   ],
   "source": [
    "# 학습 이력 추출\n",
    "hist = model.evals_result()\n",
    "\n",
    "hist"
   ]
  },
  {
   "cell_type": "markdown",
   "metadata": {},
   "source": [
    "##### 3. 시각화"
   ]
  },
  {
   "cell_type": "code",
   "execution_count": 27,
   "metadata": {},
   "outputs": [
    {
     "name": "stdout",
     "output_type": "stream",
     "text": [
      "Feature: 국민, Importance Score: 350.0\n",
      "Feature: 사람, Importance Score: 317.0\n",
      "Feature: 나라, Importance Score: 263.0\n",
      "Feature: 여자, Importance Score: 210.0\n",
      "Feature: 걱정, Importance Score: 188.0\n",
      "Feature: 고민, Importance Score: 182.0\n",
      "Feature: 친구, Importance Score: 181.0\n",
      "Feature: 대단, Importance Score: 179.0\n",
      "Feature: 박근혜, Importance Score: 178.0\n",
      "Feature: 남자, Importance Score: 152.0\n"
     ]
    }
   ],
   "source": [
    "# 특성 이름 확인\n",
    "feature_names = vectorizer.get_feature_names_out()\n",
    "\n",
    "# 상위 10개 중요 특성 이름 출력\n",
    "importance = model.get_booster().get_score(importance_type='weight')  # 중요도 가져오기\n",
    "sorted_importance = sorted(importance.items(), key=lambda x: x[1], reverse=True)  # 중요도 순 정렬\n",
    "\n",
    "for f, score in sorted_importance[:10]:\n",
    "    feature_index = int(f[1:])  # \"f403\"에서 숫자만 추출\n",
    "    print(f\"Feature: {feature_names[feature_index]}, Importance Score: {score}\")\n",
    "\n"
   ]
  },
  {
   "cell_type": "code",
   "execution_count": 28,
   "metadata": {},
   "outputs": [
    {
     "data": {
      "text/plain": [
       "<Figure size 1000x800 with 0 Axes>"
      ]
     },
     "metadata": {},
     "output_type": "display_data"
    },
    {
     "data": {
      "image/png": "[encoded data removed]",
      "text/plain": [
       "<Figure size 640x480 with 1 Axes>"
      ]
     },
     "metadata": {},
     "output_type": "display_data"
    }
   ],
   "source": [
    "# 특성 이름 매핑\n",
    "\n",
    "feature_names_list = feature_names.tolist()\n",
    "model.get_booster().feature_names = feature_names_list\n",
    "\n",
    "# 특성 중요도 시각화\n",
    "plt.figure(figsize=(10, 8))\n",
    "plot_importance(model, max_num_features=10)  # 중요도 상위 10개만 표시\n",
    "plt.title('Feature Importance')\n",
    "plt.show()"
   ]
  },
  {
   "cell_type": "code",
   "execution_count": 29,
   "metadata": {},
   "outputs": [
    {
     "data": {
      "image/png": "[encoded data removed]",
      "text/plain": [
       "<Figure size 1000x600 with 1 Axes>"
      ]
     },
     "metadata": {},
     "output_type": "display_data"
    }
   ],
   "source": [
    "# 학습 이력에서 손실값 추출\n",
    "history = model.evals_result()\n",
    "epochs = len(history['validation_0']['mlogloss'])\n",
    "x_axis = range(0, epochs)\n",
    "\n",
    "# 학습 및 검증 손실 그래프\n",
    "plt.figure(figsize=(10, 6))\n",
    "plt.plot(x_axis, history['validation_0']['mlogloss'], label='Train Loss')\n",
    "plt.plot(x_axis, history['validation_1']['mlogloss'], label='Test Loss')\n",
    "plt.legend()\n",
    "plt.xlabel('Epoch')\n",
    "plt.ylabel('Log Loss')\n",
    "plt.title('Training and Validation Log Loss')\n",
    "plt.show()\n"
   ]
  },
  {
   "cell_type": "code",
   "execution_count": 34,
   "metadata": {},
   "outputs": [],
   "source": [
    "#저장\n",
    "model.save_model('./2ndProject/LMJ/model_0115_XGBoost.json')"
   ]
  },
  {
   "cell_type": "code",
   "execution_count": 31,
   "metadata": {},
   "outputs": [],
   "source": [
    "# from xgboost import XGBClassifier\n",
    "\n",
    "# # 저장된 모델 로드\n",
    "# loaded_model = XGBClassifier()\n",
    "# loaded_model.load_model('model_0115_XGBoost.model')"
   ]
  },
  {
   "cell_type": "code",
   "execution_count": 32,
   "metadata": {},
   "outputs": [
    {
     "name": "stdout",
     "output_type": "stream",
     "text": [
      "모델과 학습 이력이 저장되었습니다.\n"
     ]
    }
   ],
   "source": [
    "# 모델과 학습 이력 저장\n",
    "# with open('model_and_history.pkl', 'wb') as f:\n",
    "#     pickle.dump({'model': model, 'history': history}, f)\n",
    "\n",
    "# print(\"모델과 학습 이력이 저장되었습니다.\")\n",
    "\n",
    "# # 저장된 모델과 학습 이력 로드\n",
    "# with open('model_and_history.pkl', 'rb') as f:\n",
    "#     data = pickle.load(f)\n",
    "\n",
    "# loaded_model = data['model']  # 로드한 모델\n",
    "# loaded_history = data['history']  # 로드한 학습 이력\n",
    "\n",
    "# print(\"모델과 학습 이력이 로드되었습니다.\")"
   ]
  }
 ],
 "metadata": {
  "kernelspec": {
   "display_name": ".venv",
   "language": "python",
   "name": "python3"
  },
  "language_info": {
   "codemirror_mode": {
    "name": "ipython",
    "version": 3
   },
   "file_extension": ".py",
   "mimetype": "text/x-python",
   "name": "python",
   "nbconvert_exporter": "python",
   "pygments_lexer": "ipython3",
   "version": "3.10.11"
  }
 },
 "nbformat": 4,
 "nbformat_minor": 2
}
