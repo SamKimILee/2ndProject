{
 "cells": [
  {
   "cell_type": "code",
   "execution_count": 1,
   "metadata": {},
   "outputs": [
    {
     "name": "stdout",
     "output_type": "stream",
     "text": [
      "WARNING:tensorflow:From c:\\labs_python\\.venv\\lib\\site-packages\\keras\\src\\losses.py:2976: The name tf.losses.sparse_softmax_cross_entropy is deprecated. Please use tf.compat.v1.losses.sparse_softmax_cross_entropy instead.\n",
      "\n"
     ]
    }
   ],
   "source": [
    "import numpy as np\n",
    "import pandas as pd\n",
    "\n",
    "import tensorflow as tf\n",
    "import keras"
   ]
  },
  {
   "cell_type": "code",
   "execution_count": 2,
   "metadata": {},
   "outputs": [],
   "source": [
    "np.random.seed(567)\n",
    "tf.random.set_seed(567)"
   ]
  },
  {
   "cell_type": "code",
   "execution_count": 3,
   "metadata": {},
   "outputs": [],
   "source": [
    "import transformers\n",
    "transformers.__version__\n",
    "\n",
    "from transformers import pipeline"
   ]
  },
  {
   "cell_type": "code",
   "execution_count": 4,
   "metadata": {},
   "outputs": [
    {
     "name": "stderr",
     "output_type": "stream",
     "text": [
      "Device set to use cpu\n"
     ]
    }
   ],
   "source": [
    "# Use a pipeline as a high-level helper\n",
    "from transformers import pipeline\n",
    "\n",
    "pipe = pipeline(\"text-classification\", model=\"hun3359/klue-bert-base-sentiment\")"
   ]
  },
  {
   "cell_type": "code",
   "execution_count": 5,
   "metadata": {},
   "outputs": [
    {
     "name": "stdout",
     "output_type": "stream",
     "text": [
      "[{'label': '짜증내는', 'score': 0.15191058814525604}]\n"
     ]
    }
   ],
   "source": [
    "# Classify a new sentence\n",
    "sentence = \"쉬는 시간을 좀더 늘려주면 좋을거 같다. 나도 수업시간에 떠들면 안되는건 알고 있다. 나도 모르게 그렇게 된다. 실컷 떠들고 싶은데.. 쉬는 시간을 좀더 늘려주면 좋을\"\n",
    "result = pipe(sentence)\n",
    "\n",
    "# Print the result\n",
    "print(result)"
   ]
  },
  {
   "cell_type": "code",
   "execution_count": 6,
   "metadata": {},
   "outputs": [
    {
     "name": "stdout",
     "output_type": "stream",
     "text": [
      "[{'label': '실망한', 'score': 0.19998888671398163}]\n"
     ]
    }
   ],
   "source": [
    "# Classify a new sentence\n",
    "sentence = \"영화가 정말 재미있었는데 다시 보고싶지는 않아.\"\n",
    "result = pipe(sentence)\n",
    "\n",
    "# Print the result\n",
    "print(result)"
   ]
  },
  {
   "cell_type": "code",
   "execution_count": 8,
   "metadata": {},
   "outputs": [],
   "source": [
    "import pandas as pd\n",
    "data = pd.read_csv(\"./2ndProject/LMJ/datasets/diary1_Summary.csv\")"
   ]
  },
  {
   "cell_type": "code",
   "execution_count": 9,
   "metadata": {},
   "outputs": [
    {
     "data": {
      "text/html": [
       "<div>\n",
       "<style scoped>\n",
       "    .dataframe tbody tr th:only-of-type {\n",
       "        vertical-align: middle;\n",
       "    }\n",
       "\n",
       "    .dataframe tbody tr th {\n",
       "        vertical-align: top;\n",
       "    }\n",
       "\n",
       "    .dataframe thead th {\n",
       "        text-align: right;\n",
       "    }\n",
       "</style>\n",
       "<table border=\"1\" class=\"dataframe\">\n",
       "  <thead>\n",
       "    <tr style=\"text-align: right;\">\n",
       "      <th></th>\n",
       "      <th>title</th>\n",
       "      <th>sentence</th>\n",
       "      <th>sentence_summary</th>\n",
       "      <th>Emotion</th>\n",
       "    </tr>\n",
       "  </thead>\n",
       "  <tbody>\n",
       "    <tr>\n",
       "      <th>0</th>\n",
       "      <td>졸업</td>\n",
       "      <td>졸업식이 취소되어서 너무 아쉽다. 취소 이유는 중국 우한에서 처음 발병한 신종 코로...</td>\n",
       "      <td>중국 우한에서 처음 발병한 신종 코로나 바이러스 때문에 인생 마지막 졸업식이 취소되...</td>\n",
       "      <td>[{'label': '낙담한', 'score': 0.3892649710178375}]</td>\n",
       "    </tr>\n",
       "    <tr>\n",
       "      <th>1</th>\n",
       "      <td>58년 개띠</td>\n",
       "      <td>살 다 보니 어느 새 현역에서 은퇴하여 손주를 보며 즐거워하는 나이가 되었다. 지난...</td>\n",
       "      <td>우리나라의 결혼식 문화는 한 번이라도 안면이 있는 사람은 본인 혹은 자녀의결혼에 청...</td>\n",
       "      <td>[{'label': '후회되는', 'score': 0.8578634858131409}]</td>\n",
       "    </tr>\n",
       "    <tr>\n",
       "      <th>2</th>\n",
       "      <td>일하기싫다</td>\n",
       "      <td>일이 하기 싫다. 오늘은 늦게 일어나서 지각을 할 뻔했지만 지각을 하지 않았다. 다...</td>\n",
       "      <td>코로나 바이러스 때문에 외출을 삼가하라고 하면서 왜 출근은 하라는 건지 모르겠다. ...</td>\n",
       "      <td>[{'label': '신이 난', 'score': 0.11426450312137604}]</td>\n",
       "    </tr>\n",
       "    <tr>\n",
       "      <th>3</th>\n",
       "      <td>만약에 내가 로또에 당첨 된다면</td>\n",
       "      <td>만약에 내가 로또에 당첨된다면 난 그 돈으로 무엇을 할지 가끔 고민해본다.  로또에...</td>\n",
       "      <td>로또 1등에 당첨된 평범한 사람의 이야기를 써보는 것도 재미있을 거 같다는 생각이 ...</td>\n",
       "      <td>[{'label': '염세적인', 'score': 0.19592730700969696}]</td>\n",
       "    </tr>\n",
       "    <tr>\n",
       "      <th>4</th>\n",
       "      <td>40인생</td>\n",
       "      <td>어른들의 말이 문득 떠오른다... 크면 다 알게될꺼라는 말들 이제야 문득문득 어릴때...</td>\n",
       "      <td>나의 소중한 사람과 같이 있을 시간이 생각 만큼 길지 않게 되었다는 것을 느낀 나이...</td>\n",
       "      <td>[{'label': '느긋', 'score': 0.09536055475473404}]</td>\n",
       "    </tr>\n",
       "    <tr>\n",
       "      <th>...</th>\n",
       "      <td>...</td>\n",
       "      <td>...</td>\n",
       "      <td>...</td>\n",
       "      <td>...</td>\n",
       "    </tr>\n",
       "    <tr>\n",
       "      <th>95</th>\n",
       "      <td>Side walls</td>\n",
       "      <td>\"나는 너를 사랑해. 그러니까 내 말 들어.\" 에서 \"나는 너를 사랑해. 그러니까 ...</td>\n",
       "      <td>사람과 사람이 만나서 관계를 지속하기 위해서는 그사람에 대한 관심을 가지고 내가 해...</td>\n",
       "      <td>[{'label': '만족스러운', 'score': 0.219646543264389...</td>\n",
       "    </tr>\n",
       "    <tr>\n",
       "      <th>96</th>\n",
       "      <td>10월에 꾼 꿈</td>\n",
       "      <td>밤에 버스 탔는데 어떤 여학생이랑 아저씨랑 어디가 용하다고 지들끼리 얘기하는 거 듣...</td>\n",
       "      <td>밤에 버스 탔는데 어떤 여학생과 아저씨랑 어디가 용하다고 얘기하는 거 듣고 홀린 듯...</td>\n",
       "      <td>[{'label': '혼란스러운(당황한)', 'score': 0.1056171432...</td>\n",
       "    </tr>\n",
       "    <tr>\n",
       "      <th>97</th>\n",
       "      <td>싫은게 싫은데</td>\n",
       "      <td>싫어하는 게 많은 사람이 싫다. 모순적이게도 그런 말을 했던 적이 있고 여전하다. ...</td>\n",
       "      <td>싫은 것은 꼭 말해야 견디는 일종의 감정을 포함한 핵심 내용 요약 나는 싫어하는 게...</td>\n",
       "      <td>[{'label': '악의적인', 'score': 0.1285804808139801}]</td>\n",
       "    </tr>\n",
       "    <tr>\n",
       "      <th>98</th>\n",
       "      <td>나의</td>\n",
       "      <td>안녕, 나의 추억 처음 당한 모욕과 배신. 기억에서 잊혀지지 않아. 나를 좋아했던 ...</td>\n",
       "      <td>나는 모두를 사랑했고 숨쉬는 것을 원했기에 더 오래 기억에 남는걸지도 몰라. 3월의...</td>\n",
       "      <td>[{'label': '흥분', 'score': 0.3139675259590149}]</td>\n",
       "    </tr>\n",
       "    <tr>\n",
       "      <th>99</th>\n",
       "      <td>올망졸망</td>\n",
       "      <td>구김 없이 밝게 자신감 있게 키우고 싶었다. 내가 겪은 우리네가 겪은 시행착오와 학...</td>\n",
       "      <td>내가 겪은 시행착오와 학대 잘못된 관행을 끊어내고 사랑 받았노라 느낄 수 있게 키우...</td>\n",
       "      <td>[{'label': '죄책감의', 'score': 0.19518433511257172}]</td>\n",
       "    </tr>\n",
       "  </tbody>\n",
       "</table>\n",
       "<p>100 rows × 4 columns</p>\n",
       "</div>"
      ],
      "text/plain": [
       "                title                                           sentence  \\\n",
       "0                  졸업  졸업식이 취소되어서 너무 아쉽다. 취소 이유는 중국 우한에서 처음 발병한 신종 코로...   \n",
       "1              58년 개띠  살 다 보니 어느 새 현역에서 은퇴하여 손주를 보며 즐거워하는 나이가 되었다. 지난...   \n",
       "2               일하기싫다  일이 하기 싫다. 오늘은 늦게 일어나서 지각을 할 뻔했지만 지각을 하지 않았다. 다...   \n",
       "3   만약에 내가 로또에 당첨 된다면  만약에 내가 로또에 당첨된다면 난 그 돈으로 무엇을 할지 가끔 고민해본다.  로또에...   \n",
       "4                40인생  어른들의 말이 문득 떠오른다... 크면 다 알게될꺼라는 말들 이제야 문득문득 어릴때...   \n",
       "..                ...                                                ...   \n",
       "95         Side walls  \"나는 너를 사랑해. 그러니까 내 말 들어.\" 에서 \"나는 너를 사랑해. 그러니까 ...   \n",
       "96           10월에 꾼 꿈  밤에 버스 탔는데 어떤 여학생이랑 아저씨랑 어디가 용하다고 지들끼리 얘기하는 거 듣...   \n",
       "97            싫은게 싫은데  싫어하는 게 많은 사람이 싫다. 모순적이게도 그런 말을 했던 적이 있고 여전하다. ...   \n",
       "98                 나의  안녕, 나의 추억 처음 당한 모욕과 배신. 기억에서 잊혀지지 않아. 나를 좋아했던 ...   \n",
       "99               올망졸망  구김 없이 밝게 자신감 있게 키우고 싶었다. 내가 겪은 우리네가 겪은 시행착오와 학...   \n",
       "\n",
       "                                     sentence_summary  \\\n",
       "0   중국 우한에서 처음 발병한 신종 코로나 바이러스 때문에 인생 마지막 졸업식이 취소되...   \n",
       "1   우리나라의 결혼식 문화는 한 번이라도 안면이 있는 사람은 본인 혹은 자녀의결혼에 청...   \n",
       "2   코로나 바이러스 때문에 외출을 삼가하라고 하면서 왜 출근은 하라는 건지 모르겠다. ...   \n",
       "3   로또 1등에 당첨된 평범한 사람의 이야기를 써보는 것도 재미있을 거 같다는 생각이 ...   \n",
       "4   나의 소중한 사람과 같이 있을 시간이 생각 만큼 길지 않게 되었다는 것을 느낀 나이...   \n",
       "..                                                ...   \n",
       "95  사람과 사람이 만나서 관계를 지속하기 위해서는 그사람에 대한 관심을 가지고 내가 해...   \n",
       "96  밤에 버스 탔는데 어떤 여학생과 아저씨랑 어디가 용하다고 얘기하는 거 듣고 홀린 듯...   \n",
       "97  싫은 것은 꼭 말해야 견디는 일종의 감정을 포함한 핵심 내용 요약 나는 싫어하는 게...   \n",
       "98  나는 모두를 사랑했고 숨쉬는 것을 원했기에 더 오래 기억에 남는걸지도 몰라. 3월의...   \n",
       "99  내가 겪은 시행착오와 학대 잘못된 관행을 끊어내고 사랑 받았노라 느낄 수 있게 키우...   \n",
       "\n",
       "                                              Emotion  \n",
       "0     [{'label': '낙담한', 'score': 0.3892649710178375}]  \n",
       "1    [{'label': '후회되는', 'score': 0.8578634858131409}]  \n",
       "2   [{'label': '신이 난', 'score': 0.11426450312137604}]  \n",
       "3   [{'label': '염세적인', 'score': 0.19592730700969696}]  \n",
       "4     [{'label': '느긋', 'score': 0.09536055475473404}]  \n",
       "..                                                ...  \n",
       "95  [{'label': '만족스러운', 'score': 0.219646543264389...  \n",
       "96  [{'label': '혼란스러운(당황한)', 'score': 0.1056171432...  \n",
       "97   [{'label': '악의적인', 'score': 0.1285804808139801}]  \n",
       "98     [{'label': '흥분', 'score': 0.3139675259590149}]  \n",
       "99  [{'label': '죄책감의', 'score': 0.19518433511257172}]  \n",
       "\n",
       "[100 rows x 4 columns]"
      ]
     },
     "execution_count": 9,
     "metadata": {},
     "output_type": "execute_result"
    }
   ],
   "source": [
    "data['Emotion'] = data['sentence_summary'].apply(lambda x:pipe(x))\n",
    "\n",
    "data"
   ]
  },
  {
   "cell_type": "code",
   "execution_count": 10,
   "metadata": {},
   "outputs": [],
   "source": [
    "data.to_csv('./2ndProject/LMJ/emotion_mapping_test.csv', index=False)"
   ]
  },
  {
   "cell_type": "code",
   "execution_count": null,
   "metadata": {},
   "outputs": [],
   "source": []
  }
 ],
 "metadata": {
  "kernelspec": {
   "display_name": ".venv",
   "language": "python",
   "name": "python3"
  },
  "language_info": {
   "codemirror_mode": {
    "name": "ipython",
    "version": 3
   },
   "file_extension": ".py",
   "mimetype": "text/x-python",
   "name": "python",
   "nbconvert_exporter": "python",
   "pygments_lexer": "ipython3",
   "version": "3.10.11"
  }
 },
 "nbformat": 4,
 "nbformat_minor": 2
}
